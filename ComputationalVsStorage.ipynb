{
  "nbformat": 4,
  "nbformat_minor": 0,
  "metadata": {
    "colab": {
      "name": "ComputationalVsStorage.ipynb",
      "provenance": [],
      "collapsed_sections": [],
      "authorship_tag": "ABX9TyND3IsldtuIIFIEGUbSUksC",
      "include_colab_link": true
    },
    "kernelspec": {
      "name": "python3",
      "display_name": "Python 3"
    },
    "language_info": {
      "name": "python"
    }
  },
  "cells": [
    {
      "cell_type": "markdown",
      "metadata": {
        "id": "view-in-github",
        "colab_type": "text"
      },
      "source": [
        "<a href=\"https://colab.research.google.com/github/hugo-dc/comp_vs_stor/blob/comp-vs-all/ComputationalVsStorage.ipynb\" target=\"_parent\"><img src=\"https://colab.research.google.com/assets/colab-badge.svg\" alt=\"Open In Colab\"/></a>"
      ]
    },
    {
      "cell_type": "markdown",
      "source": [
        "# Computational Opcodes Gas Usage\n",
        "\n",
        "This is the result of analyzing a file generated using a modified version of the Erigon `state` command. This command outputs a trace of all transactions in a block, showing all opcodes except for the following considered as Storage Opcodes:\n",
        "\n",
        "- SLOAD - 0x54\n",
        "- SSTORE - 0x55\n",
        "- CALL - 0xf1\n",
        "- CALLCODE - 0xf2\n",
        "- DELEATECALL - 0xf4\n",
        "- STATICCALL - 0xfa\n",
        "- BALANCE - 0x31\n",
        "- SELFBALANCE - 0x47\n",
        "- EXTCODESIZE - 0x3b\n",
        "- EXTCODECOPY - 0x3c\n",
        "- EXTCODEHASH - 0x3f\n",
        "- SELFDESTRUCT - 0xff\n",
        "\n",
        "Using the resulting log data, a csv file is generated with the sum of the cost of all Computational Opcodes, this document compares the Computational Opcodes gas usage in 68667 blocks (from block 12000028 12069718) against **the total gas used**, resulting in about 13.83% gas corresponding to Computational Opcodes.\n",
        "\n"
      ],
      "metadata": {
        "id": "77CTVuXiTtNa"
      }
    },
    {
      "cell_type": "code",
      "source": [
        "import pandas as pd"
      ],
      "metadata": {
        "id": "oEC8LxhgTt6N"
      },
      "execution_count": 1,
      "outputs": []
    },
    {
      "cell_type": "code",
      "source": [
        "INPUT_FILE = '/content/sample_data/comp_opcodes_usage.csv'\n",
        "FSIZE = (16, 16)\n",
        "columns = ['BlockNumber', 'GasUsed', 'CompGasUsed', 'CompGasUsedPerc']\n",
        "\n",
        "def autopct(pct): # only show the label when it's > 10%\n",
        "    return ('%.2f' % pct) + \"%\" if pct > 0 else ''"
      ],
      "metadata": {
        "id": "AzuPb5rZRYpo"
      },
      "execution_count": 2,
      "outputs": []
    },
    {
      "cell_type": "code",
      "source": [
        "df = pd.read_csv(INPUT_FILE, names=columns)\n",
        "df"
      ],
      "metadata": {
        "colab": {
          "base_uri": "https://localhost:8080/",
          "height": 419
        },
        "id": "klRtXqEBRq46",
        "outputId": "47a76924-7481-4000-efd7-849e28dbfd6d"
      },
      "execution_count": 3,
      "outputs": [
        {
          "output_type": "execute_result",
          "data": {
            "text/html": [
              "\n",
              "  <div id=\"df-0134b9d3-2125-4af1-8eab-a0c4f8b06e56\">\n",
              "    <div class=\"colab-df-container\">\n",
              "      <div>\n",
              "<style scoped>\n",
              "    .dataframe tbody tr th:only-of-type {\n",
              "        vertical-align: middle;\n",
              "    }\n",
              "\n",
              "    .dataframe tbody tr th {\n",
              "        vertical-align: top;\n",
              "    }\n",
              "\n",
              "    .dataframe thead th {\n",
              "        text-align: right;\n",
              "    }\n",
              "</style>\n",
              "<table border=\"1\" class=\"dataframe\">\n",
              "  <thead>\n",
              "    <tr style=\"text-align: right;\">\n",
              "      <th></th>\n",
              "      <th>BlockNumber</th>\n",
              "      <th>GasUsed</th>\n",
              "      <th>CompGasUsed</th>\n",
              "      <th>CompGasUsedPerc</th>\n",
              "    </tr>\n",
              "  </thead>\n",
              "  <tbody>\n",
              "    <tr>\n",
              "      <th>0</th>\n",
              "      <td>12000028</td>\n",
              "      <td>12477997</td>\n",
              "      <td>3043024</td>\n",
              "      <td>24.39</td>\n",
              "    </tr>\n",
              "    <tr>\n",
              "      <th>1</th>\n",
              "      <td>12000029</td>\n",
              "      <td>12481344</td>\n",
              "      <td>1917400</td>\n",
              "      <td>15.36</td>\n",
              "    </tr>\n",
              "    <tr>\n",
              "      <th>2</th>\n",
              "      <td>12000030</td>\n",
              "      <td>12441408</td>\n",
              "      <td>2285524</td>\n",
              "      <td>18.37</td>\n",
              "    </tr>\n",
              "    <tr>\n",
              "      <th>3</th>\n",
              "      <td>12000031</td>\n",
              "      <td>12510734</td>\n",
              "      <td>2056188</td>\n",
              "      <td>16.44</td>\n",
              "    </tr>\n",
              "    <tr>\n",
              "      <th>4</th>\n",
              "      <td>12000032</td>\n",
              "      <td>12497075</td>\n",
              "      <td>1549676</td>\n",
              "      <td>12.40</td>\n",
              "    </tr>\n",
              "    <tr>\n",
              "      <th>...</th>\n",
              "      <td>...</td>\n",
              "      <td>...</td>\n",
              "      <td>...</td>\n",
              "      <td>...</td>\n",
              "    </tr>\n",
              "    <tr>\n",
              "      <th>259297</th>\n",
              "      <td>12262697</td>\n",
              "      <td>12390037</td>\n",
              "      <td>2076024</td>\n",
              "      <td>16.76</td>\n",
              "    </tr>\n",
              "    <tr>\n",
              "      <th>259298</th>\n",
              "      <td>12262698</td>\n",
              "      <td>12415503</td>\n",
              "      <td>1447376</td>\n",
              "      <td>11.66</td>\n",
              "    </tr>\n",
              "    <tr>\n",
              "      <th>259299</th>\n",
              "      <td>12262699</td>\n",
              "      <td>12410210</td>\n",
              "      <td>1984732</td>\n",
              "      <td>15.99</td>\n",
              "    </tr>\n",
              "    <tr>\n",
              "      <th>259300</th>\n",
              "      <td>12262700</td>\n",
              "      <td>12433439</td>\n",
              "      <td>2286898</td>\n",
              "      <td>18.39</td>\n",
              "    </tr>\n",
              "    <tr>\n",
              "      <th>259301</th>\n",
              "      <td>12262701</td>\n",
              "      <td>12402662</td>\n",
              "      <td>1371444</td>\n",
              "      <td>11.06</td>\n",
              "    </tr>\n",
              "  </tbody>\n",
              "</table>\n",
              "<p>259302 rows × 4 columns</p>\n",
              "</div>\n",
              "      <button class=\"colab-df-convert\" onclick=\"convertToInteractive('df-0134b9d3-2125-4af1-8eab-a0c4f8b06e56')\"\n",
              "              title=\"Convert this dataframe to an interactive table.\"\n",
              "              style=\"display:none;\">\n",
              "        \n",
              "  <svg xmlns=\"http://www.w3.org/2000/svg\" height=\"24px\"viewBox=\"0 0 24 24\"\n",
              "       width=\"24px\">\n",
              "    <path d=\"M0 0h24v24H0V0z\" fill=\"none\"/>\n",
              "    <path d=\"M18.56 5.44l.94 2.06.94-2.06 2.06-.94-2.06-.94-.94-2.06-.94 2.06-2.06.94zm-11 1L8.5 8.5l.94-2.06 2.06-.94-2.06-.94L8.5 2.5l-.94 2.06-2.06.94zm10 10l.94 2.06.94-2.06 2.06-.94-2.06-.94-.94-2.06-.94 2.06-2.06.94z\"/><path d=\"M17.41 7.96l-1.37-1.37c-.4-.4-.92-.59-1.43-.59-.52 0-1.04.2-1.43.59L10.3 9.45l-7.72 7.72c-.78.78-.78 2.05 0 2.83L4 21.41c.39.39.9.59 1.41.59.51 0 1.02-.2 1.41-.59l7.78-7.78 2.81-2.81c.8-.78.8-2.07 0-2.86zM5.41 20L4 18.59l7.72-7.72 1.47 1.35L5.41 20z\"/>\n",
              "  </svg>\n",
              "      </button>\n",
              "      \n",
              "  <style>\n",
              "    .colab-df-container {\n",
              "      display:flex;\n",
              "      flex-wrap:wrap;\n",
              "      gap: 12px;\n",
              "    }\n",
              "\n",
              "    .colab-df-convert {\n",
              "      background-color: #E8F0FE;\n",
              "      border: none;\n",
              "      border-radius: 50%;\n",
              "      cursor: pointer;\n",
              "      display: none;\n",
              "      fill: #1967D2;\n",
              "      height: 32px;\n",
              "      padding: 0 0 0 0;\n",
              "      width: 32px;\n",
              "    }\n",
              "\n",
              "    .colab-df-convert:hover {\n",
              "      background-color: #E2EBFA;\n",
              "      box-shadow: 0px 1px 2px rgba(60, 64, 67, 0.3), 0px 1px 3px 1px rgba(60, 64, 67, 0.15);\n",
              "      fill: #174EA6;\n",
              "    }\n",
              "\n",
              "    [theme=dark] .colab-df-convert {\n",
              "      background-color: #3B4455;\n",
              "      fill: #D2E3FC;\n",
              "    }\n",
              "\n",
              "    [theme=dark] .colab-df-convert:hover {\n",
              "      background-color: #434B5C;\n",
              "      box-shadow: 0px 1px 3px 1px rgba(0, 0, 0, 0.15);\n",
              "      filter: drop-shadow(0px 1px 2px rgba(0, 0, 0, 0.3));\n",
              "      fill: #FFFFFF;\n",
              "    }\n",
              "  </style>\n",
              "\n",
              "      <script>\n",
              "        const buttonEl =\n",
              "          document.querySelector('#df-0134b9d3-2125-4af1-8eab-a0c4f8b06e56 button.colab-df-convert');\n",
              "        buttonEl.style.display =\n",
              "          google.colab.kernel.accessAllowed ? 'block' : 'none';\n",
              "\n",
              "        async function convertToInteractive(key) {\n",
              "          const element = document.querySelector('#df-0134b9d3-2125-4af1-8eab-a0c4f8b06e56');\n",
              "          const dataTable =\n",
              "            await google.colab.kernel.invokeFunction('convertToInteractive',\n",
              "                                                     [key], {});\n",
              "          if (!dataTable) return;\n",
              "\n",
              "          const docLinkHtml = 'Like what you see? Visit the ' +\n",
              "            '<a target=\"_blank\" href=https://colab.research.google.com/notebooks/data_table.ipynb>data table notebook</a>'\n",
              "            + ' to learn more about interactive tables.';\n",
              "          element.innerHTML = '';\n",
              "          dataTable['output_type'] = 'display_data';\n",
              "          await google.colab.output.renderOutput(dataTable, element);\n",
              "          const docLink = document.createElement('div');\n",
              "          docLink.innerHTML = docLinkHtml;\n",
              "          element.appendChild(docLink);\n",
              "        }\n",
              "      </script>\n",
              "    </div>\n",
              "  </div>\n",
              "  "
            ],
            "text/plain": [
              "        BlockNumber   GasUsed  CompGasUsed  CompGasUsedPerc\n",
              "0          12000028  12477997      3043024            24.39\n",
              "1          12000029  12481344      1917400            15.36\n",
              "2          12000030  12441408      2285524            18.37\n",
              "3          12000031  12510734      2056188            16.44\n",
              "4          12000032  12497075      1549676            12.40\n",
              "...             ...       ...          ...              ...\n",
              "259297     12262697  12390037      2076024            16.76\n",
              "259298     12262698  12415503      1447376            11.66\n",
              "259299     12262699  12410210      1984732            15.99\n",
              "259300     12262700  12433439      2286898            18.39\n",
              "259301     12262701  12402662      1371444            11.06\n",
              "\n",
              "[259302 rows x 4 columns]"
            ]
          },
          "metadata": {},
          "execution_count": 3
        }
      ]
    },
    {
      "cell_type": "code",
      "source": [
        "avg_gas_used = df['GasUsed'].mean()\n",
        "avg_gas_used"
      ],
      "metadata": {
        "colab": {
          "base_uri": "https://localhost:8080/"
        },
        "id": "Uorg2jJOR3GK",
        "outputId": "90afa98c-b614-4d23-c4e6-6bd93d5ba170"
      },
      "execution_count": 4,
      "outputs": [
        {
          "output_type": "execute_result",
          "data": {
            "text/plain": [
              "12462423.559845276"
            ]
          },
          "metadata": {},
          "execution_count": 4
        }
      ]
    },
    {
      "cell_type": "code",
      "source": [
        "avg_comp_gas_used = df['CompGasUsed'].mean()\n",
        "avg_comp_gas_used"
      ],
      "metadata": {
        "colab": {
          "base_uri": "https://localhost:8080/"
        },
        "id": "eO-oQqqJSDvi",
        "outputId": "6de69311-50ca-40d7-cd7e-0c96baf61a27"
      },
      "execution_count": 5,
      "outputs": [
        {
          "output_type": "execute_result",
          "data": {
            "text/plain": [
              "1723255.1112023818"
            ]
          },
          "metadata": {},
          "execution_count": 5
        }
      ]
    },
    {
      "cell_type": "code",
      "source": [
        "df['CompGasUsedPerc'].mean()"
      ],
      "metadata": {
        "colab": {
          "base_uri": "https://localhost:8080/"
        },
        "id": "lxJVkFttSHey",
        "outputId": "d7ce18ac-408f-4c5b-dad1-c15332f3c82b"
      },
      "execution_count": 6,
      "outputs": [
        {
          "output_type": "execute_result",
          "data": {
            "text/plain": [
              "13.826440096875332"
            ]
          },
          "metadata": {},
          "execution_count": 6
        }
      ]
    },
    {
      "cell_type": "code",
      "source": [
        "df['StorGasUsed'] = df['GasUsed'] - df['CompGasUsed']"
      ],
      "metadata": {
        "id": "gZWzpNM_S56j"
      },
      "execution_count": 7,
      "outputs": []
    },
    {
      "cell_type": "code",
      "source": [
        "df[['StorGasUsed', 'CompGasUsed']].sum().plot(kind='pie', label='Computational vs Storage opcodes usage', figsize=FSIZE, autopct=autopct)"
      ],
      "metadata": {
        "colab": {
          "base_uri": "https://localhost:8080/",
          "height": 918
        },
        "id": "8YGwldcsTIm6",
        "outputId": "8e5088de-b861-4444-be5e-49f9cca368e4"
      },
      "execution_count": 8,
      "outputs": [
        {
          "output_type": "execute_result",
          "data": {
            "text/plain": [
              "<matplotlib.axes._subplots.AxesSubplot at 0x7f9c02e4c410>"
            ]
          },
          "metadata": {},
          "execution_count": 8
        },
        {
          "output_type": "display_data",
          "data": {
            "image/png": "[encoded data removed]",
            "text/plain": [
              "<Figure size 1152x1152 with 1 Axes>"
            ]
          },
          "metadata": {}
        }
      ]
    }
  ]
}