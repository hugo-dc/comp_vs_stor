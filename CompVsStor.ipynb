{
  "nbformat": 4,
  "nbformat_minor": 0,
  "metadata": {
    "colab": {
      "name": "CompVsStor.ipynb",
      "provenance": [],
      "collapsed_sections": [],
      "authorship_tag": "ABX9TyO5tiboAru9F1Zh1a+8XBg7",
      "include_colab_link": true
    },
    "kernelspec": {
      "name": "python3",
      "display_name": "Python 3"
    },
    "language_info": {
      "name": "python"
    }
  },
  "cells": [
    {
      "cell_type": "markdown",
      "metadata": {
        "id": "view-in-github",
        "colab_type": "text"
      },
      "source": [
        "<a href=\"https://colab.research.google.com/github/hugo-dc/comp_vs_stor/blob/master/CompVsStor.ipynb\" target=\"_parent\"><img src=\"https://colab.research.google.com/assets/colab-badge.svg\" alt=\"Open In Colab\"/></a>"
      ]
    },
    {
      "cell_type": "markdown",
      "source": [
        "# Computational Opcodes Gas Usage\n",
        "\n",
        "This is the result of analyzing a file generated using a modified version of the Erigon `state` command. This command outputs a trace of all transactions in a block, showing all opcodes except for the following considered as Storage Opcodes:\n",
        "\n",
        "- SLOAD - 0x54\n",
        "- SSTORE - 0x55\n",
        "- CALL - 0xf1\n",
        "- CALLCODE - 0xf2\n",
        "- DELEATECALL - 0xf4\n",
        "- STATICCALL - 0xfa\n",
        "- BALANCE - 0x31\n",
        "- SELFBALANCE - 0x47\n",
        "- EXTCODESIZE - 0x3b\n",
        "- EXTCODECOPY - 0x3c\n",
        "- EXTCODEHASH - 0x3f\n",
        "- SELFDESTRUCT - 0xff"
      ],
      "metadata": {
        "id": "TBE4mnDcfAH2"
      }
    },
    {
      "cell_type": "code",
      "source": [
        "import pandas as pd"
      ],
      "metadata": {
        "id": "w7F8b6gKfCAW"
      },
      "execution_count": 12,
      "outputs": []
    },
    {
      "cell_type": "code",
      "source": [
        "INPUT_FILE = '/content/sample_data/comp_op_usage.csv'\n",
        "FSIZE = (16, 16)\n",
        "columns = ['BlockNumber', 'GasUsed', 'RealGasUsed', 'IntrinsicGas', 'CompGasUsed', 'StorGasUsed', 'CompGasUsedPerc1', 'StorGasUsedPerc1', 'CompGasUsedPerc2', 'StorGasUsedPerc2']\n",
        "\n",
        "def autopct(pct): # only show the label when it's > 10%\n",
        "    return ('%.2f' % pct) + \"%\" if pct > 0 else ''"
      ],
      "metadata": {
        "id": "hpcn_xpJfKf2"
      },
      "execution_count": 13,
      "outputs": []
    },
    {
      "cell_type": "code",
      "source": [
        "df = pd.read_csv(INPUT_FILE, names=columns)\n",
        "df"
      ],
      "metadata": {
        "colab": {
          "base_uri": "https://localhost:8080/",
          "height": 419
        },
        "id": "nTUN6hRMfwun",
        "outputId": "46ecf943-ddf3-4eca-f6fe-f1c9f740f5e8"
      },
      "execution_count": 14,
      "outputs": [
        {
          "output_type": "execute_result",
          "data": {
            "text/html": [
              "\n",
              "  <div id=\"df-cc04de16-0348-4f29-ac87-ee308f6d9d60\">\n",
              "    <div class=\"colab-df-container\">\n",
              "      <div>\n",
              "<style scoped>\n",
              "    .dataframe tbody tr th:only-of-type {\n",
              "        vertical-align: middle;\n",
              "    }\n",
              "\n",
              "    .dataframe tbody tr th {\n",
              "        vertical-align: top;\n",
              "    }\n",
              "\n",
              "    .dataframe thead th {\n",
              "        text-align: right;\n",
              "    }\n",
              "</style>\n",
              "<table border=\"1\" class=\"dataframe\">\n",
              "  <thead>\n",
              "    <tr style=\"text-align: right;\">\n",
              "      <th></th>\n",
              "      <th>BlockNumber</th>\n",
              "      <th>GasUsed</th>\n",
              "      <th>RealGasUsed</th>\n",
              "      <th>IntrinsicGas</th>\n",
              "      <th>CompGasUsed</th>\n",
              "      <th>StorGasUsed</th>\n",
              "      <th>CompGasUsedPerc1</th>\n",
              "      <th>StorGasUsedPerc1</th>\n",
              "      <th>CompGasUsedPerc2</th>\n",
              "      <th>StorGasUsedPerc2</th>\n",
              "    </tr>\n",
              "  </thead>\n",
              "  <tbody>\n",
              "    <tr>\n",
              "      <th>0</th>\n",
              "      <td>12000028</td>\n",
              "      <td>12393997</td>\n",
              "      <td>12869197</td>\n",
              "      <td>972584</td>\n",
              "      <td>3043024</td>\n",
              "      <td>8853589</td>\n",
              "      <td>24.55</td>\n",
              "      <td>71.43</td>\n",
              "      <td>23.65</td>\n",
              "      <td>68.80</td>\n",
              "    </tr>\n",
              "    <tr>\n",
              "      <th>1</th>\n",
              "      <td>12000029</td>\n",
              "      <td>11935344</td>\n",
              "      <td>13400544</td>\n",
              "      <td>2197448</td>\n",
              "      <td>1917400</td>\n",
              "      <td>9285696</td>\n",
              "      <td>16.06</td>\n",
              "      <td>77.80</td>\n",
              "      <td>14.31</td>\n",
              "      <td>69.29</td>\n",
              "    </tr>\n",
              "    <tr>\n",
              "      <th>2</th>\n",
              "      <td>12000030</td>\n",
              "      <td>11664408</td>\n",
              "      <td>12932208</td>\n",
              "      <td>2673044</td>\n",
              "      <td>2285524</td>\n",
              "      <td>7973640</td>\n",
              "      <td>19.59</td>\n",
              "      <td>68.36</td>\n",
              "      <td>17.67</td>\n",
              "      <td>61.66</td>\n",
              "    </tr>\n",
              "    <tr>\n",
              "      <th>3</th>\n",
              "      <td>12000031</td>\n",
              "      <td>12174734</td>\n",
              "      <td>13459334</td>\n",
              "      <td>3349148</td>\n",
              "      <td>2056188</td>\n",
              "      <td>8053998</td>\n",
              "      <td>16.89</td>\n",
              "      <td>66.15</td>\n",
              "      <td>15.28</td>\n",
              "      <td>59.84</td>\n",
              "    </tr>\n",
              "    <tr>\n",
              "      <th>4</th>\n",
              "      <td>12000032</td>\n",
              "      <td>11510075</td>\n",
              "      <td>12663973</td>\n",
              "      <td>2163400</td>\n",
              "      <td>1549676</td>\n",
              "      <td>8950897</td>\n",
              "      <td>13.46</td>\n",
              "      <td>77.77</td>\n",
              "      <td>12.24</td>\n",
              "      <td>70.68</td>\n",
              "    </tr>\n",
              "    <tr>\n",
              "      <th>...</th>\n",
              "      <td>...</td>\n",
              "      <td>...</td>\n",
              "      <td>...</td>\n",
              "      <td>...</td>\n",
              "      <td>...</td>\n",
              "      <td>...</td>\n",
              "      <td>...</td>\n",
              "      <td>...</td>\n",
              "      <td>...</td>\n",
              "      <td>...</td>\n",
              "    </tr>\n",
              "    <tr>\n",
              "      <th>321207</th>\n",
              "      <td>12325197</td>\n",
              "      <td>13333460</td>\n",
              "      <td>14850894</td>\n",
              "      <td>2904452</td>\n",
              "      <td>2632157</td>\n",
              "      <td>9314285</td>\n",
              "      <td>19.74</td>\n",
              "      <td>69.86</td>\n",
              "      <td>17.72</td>\n",
              "      <td>62.72</td>\n",
              "    </tr>\n",
              "    <tr>\n",
              "      <th>321208</th>\n",
              "      <td>12325198</td>\n",
              "      <td>14403808</td>\n",
              "      <td>16053039</td>\n",
              "      <td>3200272</td>\n",
              "      <td>2670133</td>\n",
              "      <td>10182634</td>\n",
              "      <td>18.54</td>\n",
              "      <td>70.69</td>\n",
              "      <td>16.63</td>\n",
              "      <td>63.43</td>\n",
              "    </tr>\n",
              "    <tr>\n",
              "      <th>321209</th>\n",
              "      <td>12325199</td>\n",
              "      <td>14334621</td>\n",
              "      <td>16364220</td>\n",
              "      <td>3250200</td>\n",
              "      <td>2654554</td>\n",
              "      <td>10459466</td>\n",
              "      <td>18.52</td>\n",
              "      <td>72.97</td>\n",
              "      <td>16.22</td>\n",
              "      <td>63.92</td>\n",
              "    </tr>\n",
              "    <tr>\n",
              "      <th>321210</th>\n",
              "      <td>12325200</td>\n",
              "      <td>10876452</td>\n",
              "      <td>12011683</td>\n",
              "      <td>3466752</td>\n",
              "      <td>1681250</td>\n",
              "      <td>6863681</td>\n",
              "      <td>15.46</td>\n",
              "      <td>63.11</td>\n",
              "      <td>14.00</td>\n",
              "      <td>57.14</td>\n",
              "    </tr>\n",
              "    <tr>\n",
              "      <th>321211</th>\n",
              "      <td>12325201</td>\n",
              "      <td>13742791</td>\n",
              "      <td>15375691</td>\n",
              "      <td>2595832</td>\n",
              "      <td>2757657</td>\n",
              "      <td>10022202</td>\n",
              "      <td>20.07</td>\n",
              "      <td>72.93</td>\n",
              "      <td>17.94</td>\n",
              "      <td>65.18</td>\n",
              "    </tr>\n",
              "  </tbody>\n",
              "</table>\n",
              "<p>321212 rows × 10 columns</p>\n",
              "</div>\n",
              "      <button class=\"colab-df-convert\" onclick=\"convertToInteractive('df-cc04de16-0348-4f29-ac87-ee308f6d9d60')\"\n",
              "              title=\"Convert this dataframe to an interactive table.\"\n",
              "              style=\"display:none;\">\n",
              "        \n",
              "  <svg xmlns=\"http://www.w3.org/2000/svg\" height=\"24px\"viewBox=\"0 0 24 24\"\n",
              "       width=\"24px\">\n",
              "    <path d=\"M0 0h24v24H0V0z\" fill=\"none\"/>\n",
              "    <path d=\"M18.56 5.44l.94 2.06.94-2.06 2.06-.94-2.06-.94-.94-2.06-.94 2.06-2.06.94zm-11 1L8.5 8.5l.94-2.06 2.06-.94-2.06-.94L8.5 2.5l-.94 2.06-2.06.94zm10 10l.94 2.06.94-2.06 2.06-.94-2.06-.94-.94-2.06-.94 2.06-2.06.94z\"/><path d=\"M17.41 7.96l-1.37-1.37c-.4-.4-.92-.59-1.43-.59-.52 0-1.04.2-1.43.59L10.3 9.45l-7.72 7.72c-.78.78-.78 2.05 0 2.83L4 21.41c.39.39.9.59 1.41.59.51 0 1.02-.2 1.41-.59l7.78-7.78 2.81-2.81c.8-.78.8-2.07 0-2.86zM5.41 20L4 18.59l7.72-7.72 1.47 1.35L5.41 20z\"/>\n",
              "  </svg>\n",
              "      </button>\n",
              "      \n",
              "  <style>\n",
              "    .colab-df-container {\n",
              "      display:flex;\n",
              "      flex-wrap:wrap;\n",
              "      gap: 12px;\n",
              "    }\n",
              "\n",
              "    .colab-df-convert {\n",
              "      background-color: #E8F0FE;\n",
              "      border: none;\n",
              "      border-radius: 50%;\n",
              "      cursor: pointer;\n",
              "      display: none;\n",
              "      fill: #1967D2;\n",
              "      height: 32px;\n",
              "      padding: 0 0 0 0;\n",
              "      width: 32px;\n",
              "    }\n",
              "\n",
              "    .colab-df-convert:hover {\n",
              "      background-color: #E2EBFA;\n",
              "      box-shadow: 0px 1px 2px rgba(60, 64, 67, 0.3), 0px 1px 3px 1px rgba(60, 64, 67, 0.15);\n",
              "      fill: #174EA6;\n",
              "    }\n",
              "\n",
              "    [theme=dark] .colab-df-convert {\n",
              "      background-color: #3B4455;\n",
              "      fill: #D2E3FC;\n",
              "    }\n",
              "\n",
              "    [theme=dark] .colab-df-convert:hover {\n",
              "      background-color: #434B5C;\n",
              "      box-shadow: 0px 1px 3px 1px rgba(0, 0, 0, 0.15);\n",
              "      filter: drop-shadow(0px 1px 2px rgba(0, 0, 0, 0.3));\n",
              "      fill: #FFFFFF;\n",
              "    }\n",
              "  </style>\n",
              "\n",
              "      <script>\n",
              "        const buttonEl =\n",
              "          document.querySelector('#df-cc04de16-0348-4f29-ac87-ee308f6d9d60 button.colab-df-convert');\n",
              "        buttonEl.style.display =\n",
              "          google.colab.kernel.accessAllowed ? 'block' : 'none';\n",
              "\n",
              "        async function convertToInteractive(key) {\n",
              "          const element = document.querySelector('#df-cc04de16-0348-4f29-ac87-ee308f6d9d60');\n",
              "          const dataTable =\n",
              "            await google.colab.kernel.invokeFunction('convertToInteractive',\n",
              "                                                     [key], {});\n",
              "          if (!dataTable) return;\n",
              "\n",
              "          const docLinkHtml = 'Like what you see? Visit the ' +\n",
              "            '<a target=\"_blank\" href=https://colab.research.google.com/notebooks/data_table.ipynb>data table notebook</a>'\n",
              "            + ' to learn more about interactive tables.';\n",
              "          element.innerHTML = '';\n",
              "          dataTable['output_type'] = 'display_data';\n",
              "          await google.colab.output.renderOutput(dataTable, element);\n",
              "          const docLink = document.createElement('div');\n",
              "          docLink.innerHTML = docLinkHtml;\n",
              "          element.appendChild(docLink);\n",
              "        }\n",
              "      </script>\n",
              "    </div>\n",
              "  </div>\n",
              "  "
            ],
            "text/plain": [
              "        BlockNumber   GasUsed  RealGasUsed  IntrinsicGas  CompGasUsed  \\\n",
              "0          12000028  12393997     12869197        972584      3043024   \n",
              "1          12000029  11935344     13400544       2197448      1917400   \n",
              "2          12000030  11664408     12932208       2673044      2285524   \n",
              "3          12000031  12174734     13459334       3349148      2056188   \n",
              "4          12000032  11510075     12663973       2163400      1549676   \n",
              "...             ...       ...          ...           ...          ...   \n",
              "321207     12325197  13333460     14850894       2904452      2632157   \n",
              "321208     12325198  14403808     16053039       3200272      2670133   \n",
              "321209     12325199  14334621     16364220       3250200      2654554   \n",
              "321210     12325200  10876452     12011683       3466752      1681250   \n",
              "321211     12325201  13742791     15375691       2595832      2757657   \n",
              "\n",
              "        StorGasUsed  CompGasUsedPerc1  StorGasUsedPerc1  CompGasUsedPerc2  \\\n",
              "0           8853589             24.55             71.43             23.65   \n",
              "1           9285696             16.06             77.80             14.31   \n",
              "2           7973640             19.59             68.36             17.67   \n",
              "3           8053998             16.89             66.15             15.28   \n",
              "4           8950897             13.46             77.77             12.24   \n",
              "...             ...               ...               ...               ...   \n",
              "321207      9314285             19.74             69.86             17.72   \n",
              "321208     10182634             18.54             70.69             16.63   \n",
              "321209     10459466             18.52             72.97             16.22   \n",
              "321210      6863681             15.46             63.11             14.00   \n",
              "321211     10022202             20.07             72.93             17.94   \n",
              "\n",
              "        StorGasUsedPerc2  \n",
              "0                  68.80  \n",
              "1                  69.29  \n",
              "2                  61.66  \n",
              "3                  59.84  \n",
              "4                  70.68  \n",
              "...                  ...  \n",
              "321207             62.72  \n",
              "321208             63.43  \n",
              "321209             63.92  \n",
              "321210             57.14  \n",
              "321211             65.18  \n",
              "\n",
              "[321212 rows x 10 columns]"
            ]
          },
          "metadata": {},
          "execution_count": 14
        }
      ]
    },
    {
      "cell_type": "markdown",
      "source": [
        "## Results\n",
        "\n",
        "The gas consumed by the transactions executing a contract can be divided in the following groups:"
      ],
      "metadata": {
        "id": "hEqloa-DimU8"
      }
    },
    {
      "cell_type": "code",
      "source": [
        "df[['IntrinsicGas', 'StorGasUsed', 'CompGasUsed']].sum().plot(kind='pie', label='Computational vs Storage opcodes usage', figsize=FSIZE, autopct=autopct)"
      ],
      "metadata": {
        "colab": {
          "base_uri": "https://localhost:8080/",
          "height": 918
        },
        "id": "8XSoZk4agcQB",
        "outputId": "4184dcdb-871d-494e-badf-5472849f677a"
      },
      "execution_count": 15,
      "outputs": [
        {
          "output_type": "execute_result",
          "data": {
            "text/plain": [
              "<matplotlib.axes._subplots.AxesSubplot at 0x7f109ae54550>"
            ]
          },
          "metadata": {},
          "execution_count": 15
        },
        {
          "output_type": "display_data",
          "data": {
            "image/png": "[encoded data removed]",
            "text/plain": [
              "<Figure size 1152x1152 with 1 Axes>"
            ]
          },
          "metadata": {}
        }
      ]
    },
    {
      "cell_type": "markdown",
      "source": [
        "If we divide a transaction gas usage only by Opcode Gas usage, we have the following result comparing Storage vs Computational opcodes:"
      ],
      "metadata": {
        "id": "Oh-HOo8ojUK4"
      }
    },
    {
      "cell_type": "code",
      "source": [
        "df[['StorGasUsed', 'CompGasUsed']].sum().plot(kind='pie', label='Computational vs Storage opcodes usage', figsize=FSIZE, autopct=autopct)"
      ],
      "metadata": {
        "colab": {
          "base_uri": "https://localhost:8080/",
          "height": 918
        },
        "id": "AmuSu6A9jTa4",
        "outputId": "ed6c8926-aed2-4a61-d814-e17887f81da3"
      },
      "execution_count": 16,
      "outputs": [
        {
          "output_type": "execute_result",
          "data": {
            "text/plain": [
              "<matplotlib.axes._subplots.AxesSubplot at 0x7f109adf1e50>"
            ]
          },
          "metadata": {},
          "execution_count": 16
        },
        {
          "output_type": "display_data",
          "data": {
            "image/png": "[encoded data removed]",
            "text/plain": [
              "<Figure size 1152x1152 with 1 Axes>"
            ]
          },
          "metadata": {}
        }
      ]
    },
    {
      "cell_type": "markdown",
      "source": [
        ""
      ],
      "metadata": {
        "id": "Mp8p2mnNe7lW"
      }
    }
  ]
}